{
 "cells": [
  {
   "cell_type": "code",
   "execution_count": 1,
   "id": "a1cf0007",
   "metadata": {
    "execution": {
     "iopub.execute_input": "2023-10-27T19:31:48.334466Z",
     "iopub.status.busy": "2023-10-27T19:31:48.333688Z",
     "iopub.status.idle": "2023-10-27T19:31:58.258334Z",
     "shell.execute_reply": "2023-10-27T19:31:58.257268Z"
    },
    "id": "A-QBb5lw2H8c",
    "papermill": {
     "duration": 9.942362,
     "end_time": "2023-10-27T19:31:58.261050",
     "exception": false,
     "start_time": "2023-10-27T19:31:48.318688",
     "status": "completed"
    },
    "tags": []
   },
   "outputs": [
    {
     "name": "stderr",
     "output_type": "stream",
     "text": [
      "/opt/conda/lib/python3.10/site-packages/scipy/__init__.py:146: UserWarning: A NumPy version >=1.16.5 and <1.23.0 is required for this version of SciPy (detected version 1.23.5\n",
      "  warnings.warn(f\"A NumPy version >={np_minversion} and <{np_maxversion}\"\n"
     ]
    }
   ],
   "source": [
    "import warnings\n",
    "import pickle\n",
    "import random\n",
    "import numpy as np\n",
    "import pandas as pd\n",
    "import matplotlib.pyplot as plt\n",
    "import tensorflow as tf\n",
    "from tensorflow import keras\n",
    "from keras.preprocessing.text import Tokenizer\n",
    "from keras.utils import pad_sequences\n",
    "from keras.utils import plot_model"
   ]
  },
  {
   "cell_type": "code",
   "execution_count": 2,
   "id": "8d621892",
   "metadata": {
    "execution": {
     "iopub.execute_input": "2023-10-27T19:31:58.289645Z",
     "iopub.status.busy": "2023-10-27T19:31:58.288575Z",
     "iopub.status.idle": "2023-10-27T19:31:58.293835Z",
     "shell.execute_reply": "2023-10-27T19:31:58.292824Z"
    },
    "id": "219dt98O2YLx",
    "papermill": {
     "duration": 0.021201,
     "end_time": "2023-10-27T19:31:58.295841",
     "exception": false,
     "start_time": "2023-10-27T19:31:58.274640",
     "status": "completed"
    },
    "tags": []
   },
   "outputs": [],
   "source": [
    "import re\n",
    "import unicodedata"
   ]
  },
  {
   "cell_type": "code",
   "execution_count": 3,
   "id": "51dd09ef",
   "metadata": {
    "execution": {
     "iopub.execute_input": "2023-10-27T19:31:58.323011Z",
     "iopub.status.busy": "2023-10-27T19:31:58.322338Z",
     "iopub.status.idle": "2023-10-27T19:31:58.928428Z",
     "shell.execute_reply": "2023-10-27T19:31:58.927468Z"
    },
    "papermill": {
     "duration": 0.622184,
     "end_time": "2023-10-27T19:31:58.930824",
     "exception": false,
     "start_time": "2023-10-27T19:31:58.308640",
     "status": "completed"
    },
    "tags": []
   },
   "outputs": [
    {
     "name": "stdout",
     "output_type": "stream",
     "text": [
      "Tensor Flow Version: 2.12.0\n",
      "\n",
      "GPU is AVAILABLE\n"
     ]
    }
   ],
   "source": [
    "print(f\"Tensor Flow Version: {tf.__version__}\")\n",
    "print()\n",
    "gpu = len(tf.config.list_physical_devices('GPU'))>0\n",
    "print(\"GPU is\", \"AVAILABLE\" if gpu else \"NOT AVAILABLE\")"
   ]
  },
  {
   "cell_type": "code",
   "execution_count": 4,
   "id": "354426c7",
   "metadata": {
    "execution": {
     "iopub.execute_input": "2023-10-27T19:31:58.958180Z",
     "iopub.status.busy": "2023-10-27T19:31:58.957881Z",
     "iopub.status.idle": "2023-10-27T19:32:16.964034Z",
     "shell.execute_reply": "2023-10-27T19:32:16.963061Z"
    },
    "id": "d3RTMDpa2bvL",
    "papermill": {
     "duration": 18.022023,
     "end_time": "2023-10-27T19:32:16.966274",
     "exception": false,
     "start_time": "2023-10-27T19:31:58.944251",
     "status": "completed"
    },
    "tags": []
   },
   "outputs": [
    {
     "name": "stdout",
     "output_type": "stream",
     "text": [
      "[nltk_data] Downloading collection 'all'\n",
      "[nltk_data]    | \n",
      "[nltk_data]    | Downloading package abc to /usr/share/nltk_data...\n",
      "[nltk_data]    |   Package abc is already up-to-date!\n",
      "[nltk_data]    | Downloading package alpino to /usr/share/nltk_data...\n",
      "[nltk_data]    |   Package alpino is already up-to-date!\n",
      "[nltk_data]    | Downloading package averaged_perceptron_tagger to\n",
      "[nltk_data]    |     /usr/share/nltk_data...\n",
      "[nltk_data]    |   Package averaged_perceptron_tagger is already up-\n",
      "[nltk_data]    |       to-date!\n",
      "[nltk_data]    | Downloading package averaged_perceptron_tagger_ru to\n",
      "[nltk_data]    |     /usr/share/nltk_data...\n",
      "[nltk_data]    |   Unzipping\n",
      "[nltk_data]    |       taggers/averaged_perceptron_tagger_ru.zip.\n",
      "[nltk_data]    | Downloading package basque_grammars to\n",
      "[nltk_data]    |     /usr/share/nltk_data...\n",
      "[nltk_data]    |   Package basque_grammars is already up-to-date!\n",
      "[nltk_data]    | Downloading package bcp47 to /usr/share/nltk_data...\n",
      "[nltk_data]    | Downloading package biocreative_ppi to\n",
      "[nltk_data]    |     /usr/share/nltk_data...\n",
      "[nltk_data]    |   Package biocreative_ppi is already up-to-date!\n",
      "[nltk_data]    | Downloading package bllip_wsj_no_aux to\n",
      "[nltk_data]    |     /usr/share/nltk_data...\n",
      "[nltk_data]    |   Package bllip_wsj_no_aux is already up-to-date!\n",
      "[nltk_data]    | Downloading package book_grammars to\n",
      "[nltk_data]    |     /usr/share/nltk_data...\n",
      "[nltk_data]    |   Package book_grammars is already up-to-date!\n",
      "[nltk_data]    | Downloading package brown to /usr/share/nltk_data...\n",
      "[nltk_data]    |   Package brown is already up-to-date!\n",
      "[nltk_data]    | Downloading package brown_tei to\n",
      "[nltk_data]    |     /usr/share/nltk_data...\n",
      "[nltk_data]    |   Package brown_tei is already up-to-date!\n",
      "[nltk_data]    | Downloading package cess_cat to\n",
      "[nltk_data]    |     /usr/share/nltk_data...\n",
      "[nltk_data]    |   Package cess_cat is already up-to-date!\n",
      "[nltk_data]    | Downloading package cess_esp to\n",
      "[nltk_data]    |     /usr/share/nltk_data...\n",
      "[nltk_data]    |   Package cess_esp is already up-to-date!\n",
      "[nltk_data]    | Downloading package chat80 to /usr/share/nltk_data...\n",
      "[nltk_data]    |   Package chat80 is already up-to-date!\n",
      "[nltk_data]    | Downloading package city_database to\n",
      "[nltk_data]    |     /usr/share/nltk_data...\n",
      "[nltk_data]    |   Package city_database is already up-to-date!\n",
      "[nltk_data]    | Downloading package cmudict to\n",
      "[nltk_data]    |     /usr/share/nltk_data...\n",
      "[nltk_data]    |   Package cmudict is already up-to-date!\n",
      "[nltk_data]    | Downloading package comparative_sentences to\n",
      "[nltk_data]    |     /usr/share/nltk_data...\n",
      "[nltk_data]    |   Unzipping corpora/comparative_sentences.zip.\n",
      "[nltk_data]    | Downloading package comtrans to\n",
      "[nltk_data]    |     /usr/share/nltk_data...\n",
      "[nltk_data]    |   Package comtrans is already up-to-date!\n",
      "[nltk_data]    | Downloading package conll2000 to\n",
      "[nltk_data]    |     /usr/share/nltk_data...\n",
      "[nltk_data]    |   Package conll2000 is already up-to-date!\n",
      "[nltk_data]    | Downloading package conll2002 to\n",
      "[nltk_data]    |     /usr/share/nltk_data...\n",
      "[nltk_data]    |   Package conll2002 is already up-to-date!\n",
      "[nltk_data]    | Downloading package conll2007 to\n",
      "[nltk_data]    |     /usr/share/nltk_data...\n",
      "[nltk_data]    |   Package conll2007 is already up-to-date!\n",
      "[nltk_data]    | Downloading package crubadan to\n",
      "[nltk_data]    |     /usr/share/nltk_data...\n",
      "[nltk_data]    |   Package crubadan is already up-to-date!\n",
      "[nltk_data]    | Downloading package dependency_treebank to\n",
      "[nltk_data]    |     /usr/share/nltk_data...\n",
      "[nltk_data]    |   Package dependency_treebank is already up-to-date!\n",
      "[nltk_data]    | Downloading package dolch to /usr/share/nltk_data...\n",
      "[nltk_data]    |   Unzipping corpora/dolch.zip.\n",
      "[nltk_data]    | Downloading package europarl_raw to\n",
      "[nltk_data]    |     /usr/share/nltk_data...\n",
      "[nltk_data]    |   Package europarl_raw is already up-to-date!\n",
      "[nltk_data]    | Downloading package extended_omw to\n",
      "[nltk_data]    |     /usr/share/nltk_data...\n",
      "[nltk_data]    | Downloading package floresta to\n",
      "[nltk_data]    |     /usr/share/nltk_data...\n",
      "[nltk_data]    |   Package floresta is already up-to-date!\n",
      "[nltk_data]    | Downloading package framenet_v15 to\n",
      "[nltk_data]    |     /usr/share/nltk_data...\n",
      "[nltk_data]    |   Unzipping corpora/framenet_v15.zip.\n",
      "[nltk_data]    | Downloading package framenet_v17 to\n",
      "[nltk_data]    |     /usr/share/nltk_data...\n",
      "[nltk_data]    |   Unzipping corpora/framenet_v17.zip.\n",
      "[nltk_data]    | Downloading package gazetteers to\n",
      "[nltk_data]    |     /usr/share/nltk_data...\n",
      "[nltk_data]    |   Package gazetteers is already up-to-date!\n",
      "[nltk_data]    | Downloading package genesis to\n",
      "[nltk_data]    |     /usr/share/nltk_data...\n",
      "[nltk_data]    |   Package genesis is already up-to-date!\n",
      "[nltk_data]    | Downloading package gutenberg to\n",
      "[nltk_data]    |     /usr/share/nltk_data...\n",
      "[nltk_data]    |   Package gutenberg is already up-to-date!\n",
      "[nltk_data]    | Downloading package ieer to /usr/share/nltk_data...\n",
      "[nltk_data]    |   Package ieer is already up-to-date!\n",
      "[nltk_data]    | Downloading package inaugural to\n",
      "[nltk_data]    |     /usr/share/nltk_data...\n",
      "[nltk_data]    |   Package inaugural is already up-to-date!\n",
      "[nltk_data]    | Downloading package indian to /usr/share/nltk_data...\n",
      "[nltk_data]    |   Package indian is already up-to-date!\n",
      "[nltk_data]    | Downloading package jeita to /usr/share/nltk_data...\n",
      "[nltk_data]    |   Package jeita is already up-to-date!\n",
      "[nltk_data]    | Downloading package kimmo to /usr/share/nltk_data...\n",
      "[nltk_data]    |   Package kimmo is already up-to-date!\n",
      "[nltk_data]    | Downloading package knbc to /usr/share/nltk_data...\n",
      "[nltk_data]    |   Package knbc is already up-to-date!\n",
      "[nltk_data]    | Downloading package large_grammars to\n",
      "[nltk_data]    |     /usr/share/nltk_data...\n",
      "[nltk_data]    |   Package large_grammars is already up-to-date!\n",
      "[nltk_data]    | Downloading package lin_thesaurus to\n",
      "[nltk_data]    |     /usr/share/nltk_data...\n",
      "[nltk_data]    |   Package lin_thesaurus is already up-to-date!\n",
      "[nltk_data]    | Downloading package mac_morpho to\n",
      "[nltk_data]    |     /usr/share/nltk_data...\n",
      "[nltk_data]    |   Package mac_morpho is already up-to-date!\n",
      "[nltk_data]    | Downloading package machado to\n",
      "[nltk_data]    |     /usr/share/nltk_data...\n",
      "[nltk_data]    |   Package machado is already up-to-date!\n",
      "[nltk_data]    | Downloading package masc_tagged to\n",
      "[nltk_data]    |     /usr/share/nltk_data...\n",
      "[nltk_data]    |   Package masc_tagged is already up-to-date!\n",
      "[nltk_data]    | Downloading package maxent_ne_chunker to\n",
      "[nltk_data]    |     /usr/share/nltk_data...\n",
      "[nltk_data]    |   Package maxent_ne_chunker is already up-to-date!\n",
      "[nltk_data]    | Downloading package maxent_treebank_pos_tagger to\n",
      "[nltk_data]    |     /usr/share/nltk_data...\n",
      "[nltk_data]    |   Package maxent_treebank_pos_tagger is already up-\n",
      "[nltk_data]    |       to-date!\n",
      "[nltk_data]    | Downloading package moses_sample to\n",
      "[nltk_data]    |     /usr/share/nltk_data...\n",
      "[nltk_data]    |   Package moses_sample is already up-to-date!\n",
      "[nltk_data]    | Downloading package movie_reviews to\n",
      "[nltk_data]    |     /usr/share/nltk_data...\n",
      "[nltk_data]    |   Package movie_reviews is already up-to-date!\n",
      "[nltk_data]    | Downloading package mte_teip5 to\n",
      "[nltk_data]    |     /usr/share/nltk_data...\n",
      "[nltk_data]    |   Package mte_teip5 is already up-to-date!\n",
      "[nltk_data]    | Downloading package mwa_ppdb to\n",
      "[nltk_data]    |     /usr/share/nltk_data...\n",
      "[nltk_data]    |   Unzipping misc/mwa_ppdb.zip.\n",
      "[nltk_data]    | Downloading package names to /usr/share/nltk_data...\n",
      "[nltk_data]    |   Package names is already up-to-date!\n",
      "[nltk_data]    | Downloading package nombank.1.0 to\n",
      "[nltk_data]    |     /usr/share/nltk_data...\n",
      "[nltk_data]    | Downloading package nonbreaking_prefixes to\n",
      "[nltk_data]    |     /usr/share/nltk_data...\n",
      "[nltk_data]    |   Unzipping corpora/nonbreaking_prefixes.zip.\n",
      "[nltk_data]    | Downloading package nps_chat to\n",
      "[nltk_data]    |     /usr/share/nltk_data...\n",
      "[nltk_data]    |   Package nps_chat is already up-to-date!\n",
      "[nltk_data]    | Downloading package omw to /usr/share/nltk_data...\n",
      "[nltk_data]    |   Package omw is already up-to-date!\n",
      "[nltk_data]    | Downloading package omw-1.4 to\n",
      "[nltk_data]    |     /usr/share/nltk_data...\n",
      "[nltk_data]    | Downloading package opinion_lexicon to\n",
      "[nltk_data]    |     /usr/share/nltk_data...\n",
      "[nltk_data]    |   Package opinion_lexicon is already up-to-date!\n",
      "[nltk_data]    | Downloading package panlex_swadesh to\n",
      "[nltk_data]    |     /usr/share/nltk_data...\n",
      "[nltk_data]    | Downloading package paradigms to\n",
      "[nltk_data]    |     /usr/share/nltk_data...\n",
      "[nltk_data]    |   Package paradigms is already up-to-date!\n",
      "[nltk_data]    | Downloading package pe08 to /usr/share/nltk_data...\n",
      "[nltk_data]    |   Unzipping corpora/pe08.zip.\n",
      "[nltk_data]    | Downloading package perluniprops to\n",
      "[nltk_data]    |     /usr/share/nltk_data...\n",
      "[nltk_data]    |   Unzipping misc/perluniprops.zip.\n",
      "[nltk_data]    | Downloading package pil to /usr/share/nltk_data...\n",
      "[nltk_data]    |   Package pil is already up-to-date!\n",
      "[nltk_data]    | Downloading package pl196x to /usr/share/nltk_data...\n",
      "[nltk_data]    |   Package pl196x is already up-to-date!\n",
      "[nltk_data]    | Downloading package porter_test to\n",
      "[nltk_data]    |     /usr/share/nltk_data...\n",
      "[nltk_data]    |   Package porter_test is already up-to-date!\n",
      "[nltk_data]    | Downloading package ppattach to\n",
      "[nltk_data]    |     /usr/share/nltk_data...\n",
      "[nltk_data]    |   Package ppattach is already up-to-date!\n",
      "[nltk_data]    | Downloading package problem_reports to\n",
      "[nltk_data]    |     /usr/share/nltk_data...\n",
      "[nltk_data]    |   Package problem_reports is already up-to-date!\n",
      "[nltk_data]    | Downloading package product_reviews_1 to\n",
      "[nltk_data]    |     /usr/share/nltk_data...\n",
      "[nltk_data]    |   Package product_reviews_1 is already up-to-date!\n",
      "[nltk_data]    | Downloading package product_reviews_2 to\n",
      "[nltk_data]    |     /usr/share/nltk_data...\n",
      "[nltk_data]    |   Package product_reviews_2 is already up-to-date!\n",
      "[nltk_data]    | Downloading package propbank to\n",
      "[nltk_data]    |     /usr/share/nltk_data...\n",
      "[nltk_data]    |   Package propbank is already up-to-date!\n",
      "[nltk_data]    | Downloading package pros_cons to\n",
      "[nltk_data]    |     /usr/share/nltk_data...\n",
      "[nltk_data]    |   Package pros_cons is already up-to-date!\n",
      "[nltk_data]    | Downloading package ptb to /usr/share/nltk_data...\n",
      "[nltk_data]    |   Package ptb is already up-to-date!\n",
      "[nltk_data]    | Downloading package punkt to /usr/share/nltk_data...\n",
      "[nltk_data]    |   Package punkt is already up-to-date!\n",
      "[nltk_data]    | Downloading package qc to /usr/share/nltk_data...\n",
      "[nltk_data]    |   Package qc is already up-to-date!\n",
      "[nltk_data]    | Downloading package reuters to\n",
      "[nltk_data]    |     /usr/share/nltk_data...\n",
      "[nltk_data]    |   Package reuters is already up-to-date!\n",
      "[nltk_data]    | Downloading package rslp to /usr/share/nltk_data...\n",
      "[nltk_data]    |   Package rslp is already up-to-date!\n",
      "[nltk_data]    | Downloading package rte to /usr/share/nltk_data...\n",
      "[nltk_data]    |   Package rte is already up-to-date!\n",
      "[nltk_data]    | Downloading package sample_grammars to\n",
      "[nltk_data]    |     /usr/share/nltk_data...\n",
      "[nltk_data]    |   Package sample_grammars is already up-to-date!\n",
      "[nltk_data]    | Downloading package semcor to /usr/share/nltk_data...\n",
      "[nltk_data]    |   Package semcor is already up-to-date!\n",
      "[nltk_data]    | Downloading package senseval to\n",
      "[nltk_data]    |     /usr/share/nltk_data...\n",
      "[nltk_data]    |   Package senseval is already up-to-date!\n",
      "[nltk_data]    | Downloading package sentence_polarity to\n",
      "[nltk_data]    |     /usr/share/nltk_data...\n",
      "[nltk_data]    |   Package sentence_polarity is already up-to-date!\n",
      "[nltk_data]    | Downloading package sentiwordnet to\n",
      "[nltk_data]    |     /usr/share/nltk_data...\n",
      "[nltk_data]    |   Package sentiwordnet is already up-to-date!\n",
      "[nltk_data]    | Downloading package shakespeare to\n",
      "[nltk_data]    |     /usr/share/nltk_data...\n",
      "[nltk_data]    |   Package shakespeare is already up-to-date!\n",
      "[nltk_data]    | Downloading package sinica_treebank to\n",
      "[nltk_data]    |     /usr/share/nltk_data...\n",
      "[nltk_data]    |   Package sinica_treebank is already up-to-date!\n",
      "[nltk_data]    | Downloading package smultron to\n",
      "[nltk_data]    |     /usr/share/nltk_data...\n",
      "[nltk_data]    |   Package smultron is already up-to-date!\n",
      "[nltk_data]    | Downloading package snowball_data to\n",
      "[nltk_data]    |     /usr/share/nltk_data...\n",
      "[nltk_data]    |   Package snowball_data is already up-to-date!\n",
      "[nltk_data]    | Downloading package spanish_grammars to\n",
      "[nltk_data]    |     /usr/share/nltk_data...\n",
      "[nltk_data]    |   Package spanish_grammars is already up-to-date!\n",
      "[nltk_data]    | Downloading package state_union to\n",
      "[nltk_data]    |     /usr/share/nltk_data...\n",
      "[nltk_data]    |   Package state_union is already up-to-date!\n",
      "[nltk_data]    | Downloading package stopwords to\n",
      "[nltk_data]    |     /usr/share/nltk_data...\n",
      "[nltk_data]    |   Package stopwords is already up-to-date!\n",
      "[nltk_data]    | Downloading package subjectivity to\n",
      "[nltk_data]    |     /usr/share/nltk_data...\n",
      "[nltk_data]    |   Package subjectivity is already up-to-date!\n",
      "[nltk_data]    | Downloading package swadesh to\n",
      "[nltk_data]    |     /usr/share/nltk_data...\n",
      "[nltk_data]    |   Package swadesh is already up-to-date!\n",
      "[nltk_data]    | Downloading package switchboard to\n",
      "[nltk_data]    |     /usr/share/nltk_data...\n",
      "[nltk_data]    |   Package switchboard is already up-to-date!\n",
      "[nltk_data]    | Downloading package tagsets to\n",
      "[nltk_data]    |     /usr/share/nltk_data...\n",
      "[nltk_data]    |   Package tagsets is already up-to-date!\n",
      "[nltk_data]    | Downloading package timit to /usr/share/nltk_data...\n",
      "[nltk_data]    |   Package timit is already up-to-date!\n",
      "[nltk_data]    | Downloading package toolbox to\n",
      "[nltk_data]    |     /usr/share/nltk_data...\n",
      "[nltk_data]    |   Package toolbox is already up-to-date!\n",
      "[nltk_data]    | Downloading package treebank to\n",
      "[nltk_data]    |     /usr/share/nltk_data...\n",
      "[nltk_data]    |   Package treebank is already up-to-date!\n",
      "[nltk_data]    | Downloading package twitter_samples to\n",
      "[nltk_data]    |     /usr/share/nltk_data...\n",
      "[nltk_data]    |   Package twitter_samples is already up-to-date!\n",
      "[nltk_data]    | Downloading package udhr to /usr/share/nltk_data...\n",
      "[nltk_data]    |   Package udhr is already up-to-date!\n",
      "[nltk_data]    | Downloading package udhr2 to /usr/share/nltk_data...\n",
      "[nltk_data]    |   Package udhr2 is already up-to-date!\n",
      "[nltk_data]    | Downloading package unicode_samples to\n",
      "[nltk_data]    |     /usr/share/nltk_data...\n",
      "[nltk_data]    |   Package unicode_samples is already up-to-date!\n",
      "[nltk_data]    | Downloading package universal_tagset to\n",
      "[nltk_data]    |     /usr/share/nltk_data...\n",
      "[nltk_data]    |   Package universal_tagset is already up-to-date!\n",
      "[nltk_data]    | Downloading package universal_treebanks_v20 to\n",
      "[nltk_data]    |     /usr/share/nltk_data...\n",
      "[nltk_data]    |   Package universal_treebanks_v20 is already up-to-\n",
      "[nltk_data]    |       date!\n",
      "[nltk_data]    | Downloading package vader_lexicon to\n",
      "[nltk_data]    |     /usr/share/nltk_data...\n",
      "[nltk_data]    |   Package vader_lexicon is already up-to-date!\n",
      "[nltk_data]    | Downloading package verbnet to\n",
      "[nltk_data]    |     /usr/share/nltk_data...\n",
      "[nltk_data]    |   Package verbnet is already up-to-date!\n",
      "[nltk_data]    | Downloading package verbnet3 to\n",
      "[nltk_data]    |     /usr/share/nltk_data...\n",
      "[nltk_data]    |   Unzipping corpora/verbnet3.zip.\n",
      "[nltk_data]    | Downloading package webtext to\n",
      "[nltk_data]    |     /usr/share/nltk_data...\n",
      "[nltk_data]    |   Package webtext is already up-to-date!\n",
      "[nltk_data]    | Downloading package wmt15_eval to\n",
      "[nltk_data]    |     /usr/share/nltk_data...\n",
      "[nltk_data]    |   Unzipping models/wmt15_eval.zip.\n",
      "[nltk_data]    | Downloading package word2vec_sample to\n",
      "[nltk_data]    |     /usr/share/nltk_data...\n",
      "[nltk_data]    |   Package word2vec_sample is already up-to-date!\n",
      "[nltk_data]    | Downloading package wordnet to\n",
      "[nltk_data]    |     /usr/share/nltk_data...\n",
      "[nltk_data]    |   Package wordnet is already up-to-date!\n",
      "[nltk_data]    | Downloading package wordnet2021 to\n",
      "[nltk_data]    |     /usr/share/nltk_data...\n",
      "[nltk_data]    | Downloading package wordnet2022 to\n",
      "[nltk_data]    |     /usr/share/nltk_data...\n",
      "[nltk_data]    |   Unzipping corpora/wordnet2022.zip.\n",
      "[nltk_data]    | Downloading package wordnet31 to\n",
      "[nltk_data]    |     /usr/share/nltk_data...\n",
      "[nltk_data]    | Downloading package wordnet_ic to\n",
      "[nltk_data]    |     /usr/share/nltk_data...\n",
      "[nltk_data]    |   Package wordnet_ic is already up-to-date!\n",
      "[nltk_data]    | Downloading package words to /usr/share/nltk_data...\n",
      "[nltk_data]    |   Package words is already up-to-date!\n",
      "[nltk_data]    | Downloading package ycoe to /usr/share/nltk_data...\n",
      "[nltk_data]    |   Package ycoe is already up-to-date!\n",
      "[nltk_data]    | \n",
      "[nltk_data]  Done downloading collection all\n"
     ]
    },
    {
     "data": {
      "text/plain": [
       "True"
      ]
     },
     "execution_count": 4,
     "metadata": {},
     "output_type": "execute_result"
    }
   ],
   "source": [
    "import nltk\n",
    "nltk.download('all')"
   ]
  },
  {
   "cell_type": "code",
   "execution_count": 5,
   "id": "ff557cf1",
   "metadata": {
    "execution": {
     "iopub.execute_input": "2023-10-27T19:32:16.998079Z",
     "iopub.status.busy": "2023-10-27T19:32:16.997750Z",
     "iopub.status.idle": "2023-10-27T19:32:17.563644Z",
     "shell.execute_reply": "2023-10-27T19:32:17.562455Z"
    },
    "id": "EF80cmKg2fE2",
    "outputId": "e053d669-2e1c-48e5-ae34-52f92df6bb68",
    "papermill": {
     "duration": 0.5854,
     "end_time": "2023-10-27T19:32:17.567342",
     "exception": false,
     "start_time": "2023-10-27T19:32:16.981942",
     "status": "completed"
    },
    "tags": []
   },
   "outputs": [
    {
     "data": {
      "text/html": [
       "<div>\n",
       "<style scoped>\n",
       "    .dataframe tbody tr th:only-of-type {\n",
       "        vertical-align: middle;\n",
       "    }\n",
       "\n",
       "    .dataframe tbody tr th {\n",
       "        vertical-align: top;\n",
       "    }\n",
       "\n",
       "    .dataframe thead th {\n",
       "        text-align: right;\n",
       "    }\n",
       "</style>\n",
       "<table border=\"1\" class=\"dataframe\">\n",
       "  <thead>\n",
       "    <tr style=\"text-align: right;\">\n",
       "      <th></th>\n",
       "      <th>English words/sentences</th>\n",
       "      <th>French words/sentences</th>\n",
       "    </tr>\n",
       "  </thead>\n",
       "  <tbody>\n",
       "    <tr>\n",
       "      <th>0</th>\n",
       "      <td>Hi.</td>\n",
       "      <td>Salut!</td>\n",
       "    </tr>\n",
       "    <tr>\n",
       "      <th>1</th>\n",
       "      <td>Run!</td>\n",
       "      <td>Cours !</td>\n",
       "    </tr>\n",
       "    <tr>\n",
       "      <th>2</th>\n",
       "      <td>Run!</td>\n",
       "      <td>Courez !</td>\n",
       "    </tr>\n",
       "    <tr>\n",
       "      <th>3</th>\n",
       "      <td>Who?</td>\n",
       "      <td>Qui ?</td>\n",
       "    </tr>\n",
       "    <tr>\n",
       "      <th>4</th>\n",
       "      <td>Wow!</td>\n",
       "      <td>Ça alors !</td>\n",
       "    </tr>\n",
       "  </tbody>\n",
       "</table>\n",
       "</div>"
      ],
      "text/plain": [
       "  English words/sentences French words/sentences\n",
       "0                     Hi.                 Salut!\n",
       "1                    Run!                Cours !\n",
       "2                    Run!               Courez !\n",
       "3                    Who?                  Qui ?\n",
       "4                    Wow!             Ça alors !"
      ]
     },
     "execution_count": 5,
     "metadata": {},
     "output_type": "execute_result"
    }
   ],
   "source": [
    "dt = pd.read_csv(r\"/kaggle/input/language-translation-englishfrench/eng_-french.csv\")\n",
    "dt.head()"
   ]
  },
  {
   "cell_type": "markdown",
   "id": "a93e8287",
   "metadata": {
    "papermill": {
     "duration": 0.023672,
     "end_time": "2023-10-27T19:32:17.618145",
     "exception": false,
     "start_time": "2023-10-27T19:32:17.594473",
     "status": "completed"
    },
    "tags": []
   },
   "source": [
    "## data management\n",
    "\n",
    "1.shuffle the data\n",
    "dt = dt.sample(frac=1).reset_index(drop=True)\n",
    "\n",
    "2.split the data into train, validation, and test sets\n",
    "train_size = int(len(df) * 0.7)\n",
    "val_size = int(len(df) * 0.2)\n",
    "test_size = int(len(df) * 0.1)\n",
    "\n",
    "train_df = df[:train_size]\n",
    "val_df = df[train_size:train_size+val_size]\n",
    "test_df = df[train_size+val_size:]\n",
    "\n",
    "3.display the data sets representations using a pie chart just to see the distribution of the data\n",
    "labels = 'Train', 'Validation', 'Test'\n",
    "sizes = [len(train_df), len(val_df), len(test_df)]\n",
    "explode = (0.1, 0, 0)\n",
    "fig1, ax1 = plt.subplots()\n",
    "ax1.pie(sizes, explode=explode, labels=labels, autopct='%1.1f%%', shadow=True, startangle=90)\n",
    "ax1.axis('equal')\n",
    "plt.show()"
   ]
  },
  {
   "cell_type": "code",
   "execution_count": 6,
   "id": "78647c90",
   "metadata": {
    "execution": {
     "iopub.execute_input": "2023-10-27T19:32:17.660834Z",
     "iopub.status.busy": "2023-10-27T19:32:17.660480Z",
     "iopub.status.idle": "2023-10-27T19:32:17.702685Z",
     "shell.execute_reply": "2023-10-27T19:32:17.701878Z"
    },
    "id": "n8f3fGK93oed",
    "papermill": {
     "duration": 0.062616,
     "end_time": "2023-10-27T19:32:17.705087",
     "exception": false,
     "start_time": "2023-10-27T19:32:17.642471",
     "status": "completed"
    },
    "tags": []
   },
   "outputs": [],
   "source": [
    "dt = dt.sample(frac = 1).reset_index(drop = True)"
   ]
  },
  {
   "cell_type": "code",
   "execution_count": 7,
   "id": "08ec400e",
   "metadata": {
    "execution": {
     "iopub.execute_input": "2023-10-27T19:32:17.738652Z",
     "iopub.status.busy": "2023-10-27T19:32:17.738018Z",
     "iopub.status.idle": "2023-10-27T19:32:17.747569Z",
     "shell.execute_reply": "2023-10-27T19:32:17.746617Z"
    },
    "id": "US2rADSb30tG",
    "outputId": "991ab413-0083-4b9e-9e58-d2f36b473158",
    "papermill": {
     "duration": 0.028369,
     "end_time": "2023-10-27T19:32:17.749757",
     "exception": false,
     "start_time": "2023-10-27T19:32:17.721388",
     "status": "completed"
    },
    "tags": []
   },
   "outputs": [
    {
     "data": {
      "text/html": [
       "<div>\n",
       "<style scoped>\n",
       "    .dataframe tbody tr th:only-of-type {\n",
       "        vertical-align: middle;\n",
       "    }\n",
       "\n",
       "    .dataframe tbody tr th {\n",
       "        vertical-align: top;\n",
       "    }\n",
       "\n",
       "    .dataframe thead th {\n",
       "        text-align: right;\n",
       "    }\n",
       "</style>\n",
       "<table border=\"1\" class=\"dataframe\">\n",
       "  <thead>\n",
       "    <tr style=\"text-align: right;\">\n",
       "      <th></th>\n",
       "      <th>English words/sentences</th>\n",
       "      <th>French words/sentences</th>\n",
       "    </tr>\n",
       "  </thead>\n",
       "  <tbody>\n",
       "    <tr>\n",
       "      <th>0</th>\n",
       "      <td>Did you see the sunrise earlier? It was really...</td>\n",
       "      <td>As-tu vu le lever de soleil tout à l'heure ? C...</td>\n",
       "    </tr>\n",
       "    <tr>\n",
       "      <th>1</th>\n",
       "      <td>Tom set the bird free.</td>\n",
       "      <td>Tom libéra l'oiseau.</td>\n",
       "    </tr>\n",
       "    <tr>\n",
       "      <th>2</th>\n",
       "      <td>That patient may die at any time.</td>\n",
       "      <td>Ce patient peut mourir à tout moment.</td>\n",
       "    </tr>\n",
       "    <tr>\n",
       "      <th>3</th>\n",
       "      <td>You're funny.</td>\n",
       "      <td>T'es marrante.</td>\n",
       "    </tr>\n",
       "    <tr>\n",
       "      <th>4</th>\n",
       "      <td>I guess you heard about what happened this mor...</td>\n",
       "      <td>Je suppose que vous avez ouï dire ce qui s'est...</td>\n",
       "    </tr>\n",
       "  </tbody>\n",
       "</table>\n",
       "</div>"
      ],
      "text/plain": [
       "                             English words/sentences  \\\n",
       "0  Did you see the sunrise earlier? It was really...   \n",
       "1                             Tom set the bird free.   \n",
       "2                  That patient may die at any time.   \n",
       "3                                      You're funny.   \n",
       "4  I guess you heard about what happened this mor...   \n",
       "\n",
       "                              French words/sentences  \n",
       "0  As-tu vu le lever de soleil tout à l'heure ? C...  \n",
       "1                               Tom libéra l'oiseau.  \n",
       "2              Ce patient peut mourir à tout moment.  \n",
       "3                                     T'es marrante.  \n",
       "4  Je suppose que vous avez ouï dire ce qui s'est...  "
      ]
     },
     "execution_count": 7,
     "metadata": {},
     "output_type": "execute_result"
    }
   ],
   "source": [
    "dt.head()"
   ]
  },
  {
   "cell_type": "code",
   "execution_count": 8,
   "id": "1e642a24",
   "metadata": {
    "execution": {
     "iopub.execute_input": "2023-10-27T19:32:17.782856Z",
     "iopub.status.busy": "2023-10-27T19:32:17.782564Z",
     "iopub.status.idle": "2023-10-27T19:32:17.792551Z",
     "shell.execute_reply": "2023-10-27T19:32:17.791671Z"
    },
    "id": "nQmrZrOy4Eai",
    "outputId": "5aadb608-53a5-472e-dd6b-bec1c9b00c72",
    "papermill": {
     "duration": 0.029109,
     "end_time": "2023-10-27T19:32:17.794705",
     "exception": false,
     "start_time": "2023-10-27T19:32:17.765596",
     "status": "completed"
    },
    "tags": []
   },
   "outputs": [
    {
     "data": {
      "text/html": [
       "<div>\n",
       "<style scoped>\n",
       "    .dataframe tbody tr th:only-of-type {\n",
       "        vertical-align: middle;\n",
       "    }\n",
       "\n",
       "    .dataframe tbody tr th {\n",
       "        vertical-align: top;\n",
       "    }\n",
       "\n",
       "    .dataframe thead th {\n",
       "        text-align: right;\n",
       "    }\n",
       "</style>\n",
       "<table border=\"1\" class=\"dataframe\">\n",
       "  <thead>\n",
       "    <tr style=\"text-align: right;\">\n",
       "      <th></th>\n",
       "      <th>Eng</th>\n",
       "      <th>French</th>\n",
       "    </tr>\n",
       "  </thead>\n",
       "  <tbody>\n",
       "    <tr>\n",
       "      <th>0</th>\n",
       "      <td>Did you see the sunrise earlier? It was really...</td>\n",
       "      <td>As-tu vu le lever de soleil tout à l'heure ? C...</td>\n",
       "    </tr>\n",
       "    <tr>\n",
       "      <th>1</th>\n",
       "      <td>Tom set the bird free.</td>\n",
       "      <td>Tom libéra l'oiseau.</td>\n",
       "    </tr>\n",
       "    <tr>\n",
       "      <th>2</th>\n",
       "      <td>That patient may die at any time.</td>\n",
       "      <td>Ce patient peut mourir à tout moment.</td>\n",
       "    </tr>\n",
       "    <tr>\n",
       "      <th>3</th>\n",
       "      <td>You're funny.</td>\n",
       "      <td>T'es marrante.</td>\n",
       "    </tr>\n",
       "    <tr>\n",
       "      <th>4</th>\n",
       "      <td>I guess you heard about what happened this mor...</td>\n",
       "      <td>Je suppose que vous avez ouï dire ce qui s'est...</td>\n",
       "    </tr>\n",
       "  </tbody>\n",
       "</table>\n",
       "</div>"
      ],
      "text/plain": [
       "                                                 Eng  \\\n",
       "0  Did you see the sunrise earlier? It was really...   \n",
       "1                             Tom set the bird free.   \n",
       "2                  That patient may die at any time.   \n",
       "3                                      You're funny.   \n",
       "4  I guess you heard about what happened this mor...   \n",
       "\n",
       "                                              French  \n",
       "0  As-tu vu le lever de soleil tout à l'heure ? C...  \n",
       "1                               Tom libéra l'oiseau.  \n",
       "2              Ce patient peut mourir à tout moment.  \n",
       "3                                     T'es marrante.  \n",
       "4  Je suppose que vous avez ouï dire ce qui s'est...  "
      ]
     },
     "execution_count": 8,
     "metadata": {},
     "output_type": "execute_result"
    }
   ],
   "source": [
    "dt.rename(columns = {'English words/sentences':'Eng', 'French words/sentences':'French'}, inplace = True)\n",
    "dt.head()"
   ]
  },
  {
   "cell_type": "code",
   "execution_count": 9,
   "id": "2366f72f",
   "metadata": {
    "execution": {
     "iopub.execute_input": "2023-10-27T19:32:17.829009Z",
     "iopub.status.busy": "2023-10-27T19:32:17.828518Z",
     "iopub.status.idle": "2023-10-27T19:32:17.838737Z",
     "shell.execute_reply": "2023-10-27T19:32:17.837831Z"
    },
    "id": "dCkVOK6j3154",
    "papermill": {
     "duration": 0.029348,
     "end_time": "2023-10-27T19:32:17.840713",
     "exception": false,
     "start_time": "2023-10-27T19:32:17.811365",
     "status": "completed"
    },
    "tags": []
   },
   "outputs": [],
   "source": [
    "df = dt.copy()"
   ]
  },
  {
   "cell_type": "code",
   "execution_count": 10,
   "id": "96d9e240",
   "metadata": {
    "execution": {
     "iopub.execute_input": "2023-10-27T19:32:17.876733Z",
     "iopub.status.busy": "2023-10-27T19:32:17.875961Z",
     "iopub.status.idle": "2023-10-27T19:32:17.888316Z",
     "shell.execute_reply": "2023-10-27T19:32:17.887303Z"
    },
    "id": "LN2fkyzp36oC",
    "outputId": "df0b5637-bd67-42a9-93e1-7075cadbda8e",
    "papermill": {
     "duration": 0.032908,
     "end_time": "2023-10-27T19:32:17.890379",
     "exception": false,
     "start_time": "2023-10-27T19:32:17.857471",
     "status": "completed"
    },
    "tags": []
   },
   "outputs": [
    {
     "data": {
      "text/html": [
       "<div>\n",
       "<style scoped>\n",
       "    .dataframe tbody tr th:only-of-type {\n",
       "        vertical-align: middle;\n",
       "    }\n",
       "\n",
       "    .dataframe tbody tr th {\n",
       "        vertical-align: top;\n",
       "    }\n",
       "\n",
       "    .dataframe thead th {\n",
       "        text-align: right;\n",
       "    }\n",
       "</style>\n",
       "<table border=\"1\" class=\"dataframe\">\n",
       "  <thead>\n",
       "    <tr style=\"text-align: right;\">\n",
       "      <th></th>\n",
       "      <th>Eng</th>\n",
       "      <th>French</th>\n",
       "    </tr>\n",
       "  </thead>\n",
       "  <tbody>\n",
       "    <tr>\n",
       "      <th>0</th>\n",
       "      <td>Did you see the sunrise earlier? It was really...</td>\n",
       "      <td>As-tu vu le lever de soleil tout à l'heure ? C...</td>\n",
       "    </tr>\n",
       "    <tr>\n",
       "      <th>1</th>\n",
       "      <td>Tom set the bird free.</td>\n",
       "      <td>Tom libéra l'oiseau.</td>\n",
       "    </tr>\n",
       "    <tr>\n",
       "      <th>2</th>\n",
       "      <td>That patient may die at any time.</td>\n",
       "      <td>Ce patient peut mourir à tout moment.</td>\n",
       "    </tr>\n",
       "    <tr>\n",
       "      <th>3</th>\n",
       "      <td>You're funny.</td>\n",
       "      <td>T'es marrante.</td>\n",
       "    </tr>\n",
       "    <tr>\n",
       "      <th>4</th>\n",
       "      <td>I guess you heard about what happened this mor...</td>\n",
       "      <td>Je suppose que vous avez ouï dire ce qui s'est...</td>\n",
       "    </tr>\n",
       "    <tr>\n",
       "      <th>...</th>\n",
       "      <td>...</td>\n",
       "      <td>...</td>\n",
       "    </tr>\n",
       "    <tr>\n",
       "      <th>99995</th>\n",
       "      <td>I thought that you were able to speak French.</td>\n",
       "      <td>Je pensais que tu étais capable de parler fran...</td>\n",
       "    </tr>\n",
       "    <tr>\n",
       "      <th>99996</th>\n",
       "      <td>I am too tired to climb.</td>\n",
       "      <td>Je suis trop fatigué pour grimper.</td>\n",
       "    </tr>\n",
       "    <tr>\n",
       "      <th>99997</th>\n",
       "      <td>My colleague doctored the report.</td>\n",
       "      <td>Mon collègue a trafiqué le rapport.</td>\n",
       "    </tr>\n",
       "    <tr>\n",
       "      <th>99998</th>\n",
       "      <td>Do you want to grab dinner?</td>\n",
       "      <td>Veux-tu prendre à déjeuner ?</td>\n",
       "    </tr>\n",
       "    <tr>\n",
       "      <th>99999</th>\n",
       "      <td>It's best to put covers on paperbacks.</td>\n",
       "      <td>C'est mieux de couvrir les livres de poche.</td>\n",
       "    </tr>\n",
       "  </tbody>\n",
       "</table>\n",
       "<p>100000 rows × 2 columns</p>\n",
       "</div>"
      ],
      "text/plain": [
       "                                                     Eng  \\\n",
       "0      Did you see the sunrise earlier? It was really...   \n",
       "1                                 Tom set the bird free.   \n",
       "2                      That patient may die at any time.   \n",
       "3                                          You're funny.   \n",
       "4      I guess you heard about what happened this mor...   \n",
       "...                                                  ...   \n",
       "99995      I thought that you were able to speak French.   \n",
       "99996                           I am too tired to climb.   \n",
       "99997                  My colleague doctored the report.   \n",
       "99998                        Do you want to grab dinner?   \n",
       "99999             It's best to put covers on paperbacks.   \n",
       "\n",
       "                                                  French  \n",
       "0      As-tu vu le lever de soleil tout à l'heure ? C...  \n",
       "1                                   Tom libéra l'oiseau.  \n",
       "2                  Ce patient peut mourir à tout moment.  \n",
       "3                                         T'es marrante.  \n",
       "4      Je suppose que vous avez ouï dire ce qui s'est...  \n",
       "...                                                  ...  \n",
       "99995  Je pensais que tu étais capable de parler fran...  \n",
       "99996                 Je suis trop fatigué pour grimper.  \n",
       "99997                Mon collègue a trafiqué le rapport.  \n",
       "99998                       Veux-tu prendre à déjeuner ?  \n",
       "99999        C'est mieux de couvrir les livres de poche.  \n",
       "\n",
       "[100000 rows x 2 columns]"
      ]
     },
     "execution_count": 10,
     "metadata": {},
     "output_type": "execute_result"
    }
   ],
   "source": [
    "data = df[:100000]\n",
    "data"
   ]
  },
  {
   "cell_type": "code",
   "execution_count": 11,
   "id": "fb6c01a8",
   "metadata": {
    "execution": {
     "iopub.execute_input": "2023-10-27T19:32:17.927138Z",
     "iopub.status.busy": "2023-10-27T19:32:17.926840Z",
     "iopub.status.idle": "2023-10-27T19:32:17.997176Z",
     "shell.execute_reply": "2023-10-27T19:32:17.996258Z"
    },
    "id": "QrfEggfK5OKm",
    "outputId": "6fd8d5ef-e27d-48ad-8491-9f1502a5dc3f",
    "papermill": {
     "duration": 0.090193,
     "end_time": "2023-10-27T19:32:17.999176",
     "exception": false,
     "start_time": "2023-10-27T19:32:17.908983",
     "status": "completed"
    },
    "tags": []
   },
   "outputs": [
    {
     "name": "stderr",
     "output_type": "stream",
     "text": [
      "/tmp/ipykernel_26/41751442.py:1: SettingWithCopyWarning: \n",
      "A value is trying to be set on a copy of a slice from a DataFrame.\n",
      "Try using .loc[row_indexer,col_indexer] = value instead\n",
      "\n",
      "See the caveats in the documentation: https://pandas.pydata.org/pandas-docs/stable/user_guide/indexing.html#returning-a-view-versus-a-copy\n",
      "  data['French'] = data['French'].apply(lambda x: '<SOS> ' + x + ' <EOS>')\n"
     ]
    }
   ],
   "source": [
    "data['French'] = data['French'].apply(lambda x: '<SOS> ' + x + ' <EOS>')"
   ]
  },
  {
   "cell_type": "code",
   "execution_count": 12,
   "id": "52eabc09",
   "metadata": {
    "execution": {
     "iopub.execute_input": "2023-10-27T19:32:18.078121Z",
     "iopub.status.busy": "2023-10-27T19:32:18.077691Z",
     "iopub.status.idle": "2023-10-27T19:32:18.087342Z",
     "shell.execute_reply": "2023-10-27T19:32:18.086311Z"
    },
    "papermill": {
     "duration": 0.029478,
     "end_time": "2023-10-27T19:32:18.089357",
     "exception": false,
     "start_time": "2023-10-27T19:32:18.059879",
     "status": "completed"
    },
    "tags": []
   },
   "outputs": [
    {
     "data": {
      "text/html": [
       "<div>\n",
       "<style scoped>\n",
       "    .dataframe tbody tr th:only-of-type {\n",
       "        vertical-align: middle;\n",
       "    }\n",
       "\n",
       "    .dataframe tbody tr th {\n",
       "        vertical-align: top;\n",
       "    }\n",
       "\n",
       "    .dataframe thead th {\n",
       "        text-align: right;\n",
       "    }\n",
       "</style>\n",
       "<table border=\"1\" class=\"dataframe\">\n",
       "  <thead>\n",
       "    <tr style=\"text-align: right;\">\n",
       "      <th></th>\n",
       "      <th>Eng</th>\n",
       "      <th>French</th>\n",
       "    </tr>\n",
       "  </thead>\n",
       "  <tbody>\n",
       "    <tr>\n",
       "      <th>0</th>\n",
       "      <td>Did you see the sunrise earlier? It was really...</td>\n",
       "      <td>&lt;SOS&gt; As-tu vu le lever de soleil tout à l'heu...</td>\n",
       "    </tr>\n",
       "    <tr>\n",
       "      <th>1</th>\n",
       "      <td>Tom set the bird free.</td>\n",
       "      <td>&lt;SOS&gt; Tom libéra l'oiseau. &lt;EOS&gt;</td>\n",
       "    </tr>\n",
       "    <tr>\n",
       "      <th>2</th>\n",
       "      <td>That patient may die at any time.</td>\n",
       "      <td>&lt;SOS&gt; Ce patient peut mourir à tout moment. &lt;EOS&gt;</td>\n",
       "    </tr>\n",
       "    <tr>\n",
       "      <th>3</th>\n",
       "      <td>You're funny.</td>\n",
       "      <td>&lt;SOS&gt; T'es marrante. &lt;EOS&gt;</td>\n",
       "    </tr>\n",
       "    <tr>\n",
       "      <th>4</th>\n",
       "      <td>I guess you heard about what happened this mor...</td>\n",
       "      <td>&lt;SOS&gt; Je suppose que vous avez ouï dire ce qui...</td>\n",
       "    </tr>\n",
       "  </tbody>\n",
       "</table>\n",
       "</div>"
      ],
      "text/plain": [
       "                                                 Eng  \\\n",
       "0  Did you see the sunrise earlier? It was really...   \n",
       "1                             Tom set the bird free.   \n",
       "2                  That patient may die at any time.   \n",
       "3                                      You're funny.   \n",
       "4  I guess you heard about what happened this mor...   \n",
       "\n",
       "                                              French  \n",
       "0  <SOS> As-tu vu le lever de soleil tout à l'heu...  \n",
       "1                   <SOS> Tom libéra l'oiseau. <EOS>  \n",
       "2  <SOS> Ce patient peut mourir à tout moment. <EOS>  \n",
       "3                         <SOS> T'es marrante. <EOS>  \n",
       "4  <SOS> Je suppose que vous avez ouï dire ce qui...  "
      ]
     },
     "execution_count": 12,
     "metadata": {},
     "output_type": "execute_result"
    }
   ],
   "source": [
    "data.head()"
   ]
  },
  {
   "cell_type": "code",
   "execution_count": 13,
   "id": "1d9b66a7",
   "metadata": {
    "execution": {
     "iopub.execute_input": "2023-10-27T19:32:18.123174Z",
     "iopub.status.busy": "2023-10-27T19:32:18.122878Z",
     "iopub.status.idle": "2023-10-27T19:32:18.127795Z",
     "shell.execute_reply": "2023-10-27T19:32:18.127062Z"
    },
    "id": "5jr8aPgD4sUo",
    "papermill": {
     "duration": 0.023942,
     "end_time": "2023-10-27T19:32:18.129643",
     "exception": false,
     "start_time": "2023-10-27T19:32:18.105701",
     "status": "completed"
    },
    "tags": []
   },
   "outputs": [],
   "source": [
    "# Unicode normalization\n",
    "def normalize_unicode(s):\n",
    "    return ''.join( c for c in unicodedata.normalize('NFD',s) if unicodedata.category(c) != 'Mn')"
   ]
  },
  {
   "cell_type": "code",
   "execution_count": 14,
   "id": "4ae79cd6",
   "metadata": {
    "execution": {
     "iopub.execute_input": "2023-10-27T19:32:18.164833Z",
     "iopub.status.busy": "2023-10-27T19:32:18.164533Z",
     "iopub.status.idle": "2023-10-27T19:32:18.170762Z",
     "shell.execute_reply": "2023-10-27T19:32:18.169968Z"
    },
    "id": "j452cFo-4Aey",
    "papermill": {
     "duration": 0.026124,
     "end_time": "2023-10-27T19:32:18.172767",
     "exception": false,
     "start_time": "2023-10-27T19:32:18.146643",
     "status": "completed"
    },
    "tags": []
   },
   "outputs": [],
   "source": [
    "def eng_preprocessing(text):\n",
    "    text = text.lower()\n",
    "    text = re.sub(re.compile('https?://\\S+|www\\.\\S+|\\d+|<.*?>'), '', text)\n",
    "    text = nltk.word_tokenize(text)\n",
    "    text = \" \".join([i.strip() for i in text])\n",
    "    return text\n",
    "\n",
    "\n",
    "\n",
    "def french_preprocessing(texts):\n",
    "    texts = normalize_unicode(texts)\n",
    "    texts = texts.lower()\n",
    "    texts = re.sub(re.compile(\"[^a-zéâàçêêëôîû!?',]\"), ' ', texts)\n",
    "    return texts"
   ]
  },
  {
   "cell_type": "code",
   "execution_count": 15,
   "id": "ff2db7e4",
   "metadata": {
    "execution": {
     "iopub.execute_input": "2023-10-27T19:32:18.207504Z",
     "iopub.status.busy": "2023-10-27T19:32:18.207241Z",
     "iopub.status.idle": "2023-10-27T19:32:35.850906Z",
     "shell.execute_reply": "2023-10-27T19:32:35.849848Z"
    },
    "id": "WOnV1pWR4wJ4",
    "outputId": "bd46cd4d-878d-45a5-caf1-eb17419bd123",
    "papermill": {
     "duration": 17.663635,
     "end_time": "2023-10-27T19:32:35.853395",
     "exception": false,
     "start_time": "2023-10-27T19:32:18.189760",
     "status": "completed"
    },
    "tags": []
   },
   "outputs": [
    {
     "name": "stderr",
     "output_type": "stream",
     "text": [
      "/tmp/ipykernel_26/1460006921.py:1: SettingWithCopyWarning: \n",
      "A value is trying to be set on a copy of a slice from a DataFrame.\n",
      "Try using .loc[row_indexer,col_indexer] = value instead\n",
      "\n",
      "See the caveats in the documentation: https://pandas.pydata.org/pandas-docs/stable/user_guide/indexing.html#returning-a-view-versus-a-copy\n",
      "  data['Eng'] = data['Eng'].apply(lambda x: eng_preprocessing(x))\n",
      "/tmp/ipykernel_26/1460006921.py:2: SettingWithCopyWarning: \n",
      "A value is trying to be set on a copy of a slice from a DataFrame.\n",
      "Try using .loc[row_indexer,col_indexer] = value instead\n",
      "\n",
      "See the caveats in the documentation: https://pandas.pydata.org/pandas-docs/stable/user_guide/indexing.html#returning-a-view-versus-a-copy\n",
      "  data['French'] = data['French'].apply(lambda x: french_preprocessing(x))\n"
     ]
    }
   ],
   "source": [
    "data['Eng'] = data['Eng'].apply(lambda x: eng_preprocessing(x))\n",
    "data['French'] = data['French'].apply(lambda x: french_preprocessing(x))"
   ]
  },
  {
   "cell_type": "code",
   "execution_count": 16,
   "id": "a0efa9c7",
   "metadata": {
    "execution": {
     "iopub.execute_input": "2023-10-27T19:32:35.890258Z",
     "iopub.status.busy": "2023-10-27T19:32:35.889471Z",
     "iopub.status.idle": "2023-10-27T19:32:35.899113Z",
     "shell.execute_reply": "2023-10-27T19:32:35.898153Z"
    },
    "id": "DX3RUtNL5FjD",
    "outputId": "f423ccdc-edee-40e6-ac04-079b0b586144",
    "papermill": {
     "duration": 0.030389,
     "end_time": "2023-10-27T19:32:35.901304",
     "exception": false,
     "start_time": "2023-10-27T19:32:35.870915",
     "status": "completed"
    },
    "tags": []
   },
   "outputs": [
    {
     "data": {
      "text/html": [
       "<div>\n",
       "<style scoped>\n",
       "    .dataframe tbody tr th:only-of-type {\n",
       "        vertical-align: middle;\n",
       "    }\n",
       "\n",
       "    .dataframe tbody tr th {\n",
       "        vertical-align: top;\n",
       "    }\n",
       "\n",
       "    .dataframe thead th {\n",
       "        text-align: right;\n",
       "    }\n",
       "</style>\n",
       "<table border=\"1\" class=\"dataframe\">\n",
       "  <thead>\n",
       "    <tr style=\"text-align: right;\">\n",
       "      <th></th>\n",
       "      <th>Eng</th>\n",
       "      <th>French</th>\n",
       "    </tr>\n",
       "  </thead>\n",
       "  <tbody>\n",
       "    <tr>\n",
       "      <th>0</th>\n",
       "      <td>did you see the sunrise earlier ? it was reall...</td>\n",
       "      <td>sos  as tu vu le lever de soleil tout a l'heu...</td>\n",
       "    </tr>\n",
       "    <tr>\n",
       "      <th>1</th>\n",
       "      <td>tom set the bird free .</td>\n",
       "      <td>sos  tom libera l'oiseau   eos</td>\n",
       "    </tr>\n",
       "    <tr>\n",
       "      <th>2</th>\n",
       "      <td>that patient may die at any time .</td>\n",
       "      <td>sos  ce patient peut mourir a tout moment   eos</td>\n",
       "    </tr>\n",
       "    <tr>\n",
       "      <th>3</th>\n",
       "      <td>you 're funny .</td>\n",
       "      <td>sos  t'es marrante   eos</td>\n",
       "    </tr>\n",
       "    <tr>\n",
       "      <th>4</th>\n",
       "      <td>i guess you heard about what happened this mor...</td>\n",
       "      <td>sos  je suppose que vous avez oui dire ce qui...</td>\n",
       "    </tr>\n",
       "  </tbody>\n",
       "</table>\n",
       "</div>"
      ],
      "text/plain": [
       "                                                 Eng  \\\n",
       "0  did you see the sunrise earlier ? it was reall...   \n",
       "1                            tom set the bird free .   \n",
       "2                 that patient may die at any time .   \n",
       "3                                    you 're funny .   \n",
       "4  i guess you heard about what happened this mor...   \n",
       "\n",
       "                                              French  \n",
       "0   sos  as tu vu le lever de soleil tout a l'heu...  \n",
       "1                    sos  tom libera l'oiseau   eos   \n",
       "2   sos  ce patient peut mourir a tout moment   eos   \n",
       "3                          sos  t'es marrante   eos   \n",
       "4   sos  je suppose que vous avez oui dire ce qui...  "
      ]
     },
     "execution_count": 16,
     "metadata": {},
     "output_type": "execute_result"
    }
   ],
   "source": [
    "data.head()"
   ]
  },
  {
   "cell_type": "code",
   "execution_count": 17,
   "id": "35fdb17a",
   "metadata": {
    "execution": {
     "iopub.execute_input": "2023-10-27T19:32:35.938024Z",
     "iopub.status.busy": "2023-10-27T19:32:35.937087Z",
     "iopub.status.idle": "2023-10-27T19:32:35.944006Z",
     "shell.execute_reply": "2023-10-27T19:32:35.943067Z"
    },
    "id": "QTtv5aiE6kuS",
    "papermill": {
     "duration": 0.027594,
     "end_time": "2023-10-27T19:32:35.946053",
     "exception": false,
     "start_time": "2023-10-27T19:32:35.918459",
     "status": "completed"
    },
    "tags": []
   },
   "outputs": [],
   "source": [
    "def source_vectorization(text):\n",
    "    eng_token = Tokenizer()\n",
    "    eng_token.fit_on_texts(text)\n",
    "    eng_seq = eng_token.texts_to_sequences(text)\n",
    "    eng_padded = pad_sequences(eng_seq, padding = 'post')\n",
    "    return eng_padded, eng_token\n",
    "\n",
    "def target_vectorization(text):\n",
    "    french_token = Tokenizer()\n",
    "    french_token.fit_on_texts(text)\n",
    "    french_seq = french_token.texts_to_sequences(text)\n",
    "    french_padded = pad_sequences(french_seq, padding = 'post')\n",
    "    return french_padded, french_token"
   ]
  },
  {
   "cell_type": "code",
   "execution_count": 18,
   "id": "88679763",
   "metadata": {
    "execution": {
     "iopub.execute_input": "2023-10-27T19:32:35.982767Z",
     "iopub.status.busy": "2023-10-27T19:32:35.982495Z",
     "iopub.status.idle": "2023-10-27T19:32:39.210047Z",
     "shell.execute_reply": "2023-10-27T19:32:39.209196Z"
    },
    "papermill": {
     "duration": 3.2479,
     "end_time": "2023-10-27T19:32:39.212500",
     "exception": false,
     "start_time": "2023-10-27T19:32:35.964600",
     "status": "completed"
    },
    "tags": []
   },
   "outputs": [],
   "source": [
    "eng_padded, eng_token = source_vectorization(data['Eng'])"
   ]
  },
  {
   "cell_type": "code",
   "execution_count": 19,
   "id": "61039019",
   "metadata": {
    "execution": {
     "iopub.execute_input": "2023-10-27T19:32:39.247605Z",
     "iopub.status.busy": "2023-10-27T19:32:39.247279Z",
     "iopub.status.idle": "2023-10-27T19:32:39.253254Z",
     "shell.execute_reply": "2023-10-27T19:32:39.252368Z"
    },
    "id": "mNCUEs176_Ij",
    "outputId": "4cce6104-8a9f-4fee-814e-39d33e8b56fb",
    "papermill": {
     "duration": 0.026248,
     "end_time": "2023-10-27T19:32:39.255604",
     "exception": false,
     "start_time": "2023-10-27T19:32:39.229356",
     "status": "completed"
    },
    "tags": []
   },
   "outputs": [
    {
     "data": {
      "text/plain": [
       "(100000, 47)"
      ]
     },
     "execution_count": 19,
     "metadata": {},
     "output_type": "execute_result"
    }
   ],
   "source": [
    "eng_padded.shape"
   ]
  },
  {
   "cell_type": "code",
   "execution_count": 20,
   "id": "fafd819c",
   "metadata": {
    "execution": {
     "iopub.execute_input": "2023-10-27T19:32:39.290594Z",
     "iopub.status.busy": "2023-10-27T19:32:39.290319Z",
     "iopub.status.idle": "2023-10-27T19:32:39.295876Z",
     "shell.execute_reply": "2023-10-27T19:32:39.295005Z"
    },
    "id": "Ax2xiKXK9RTY",
    "outputId": "89cfd9b3-6bec-4bcc-bb45-09d3f39a4263",
    "papermill": {
     "duration": 0.025429,
     "end_time": "2023-10-27T19:32:39.298008",
     "exception": false,
     "start_time": "2023-10-27T19:32:39.272579",
     "status": "completed"
    },
    "tags": []
   },
   "outputs": [
    {
     "data": {
      "text/plain": [
       "11625"
      ]
     },
     "execution_count": 20,
     "metadata": {},
     "output_type": "execute_result"
    }
   ],
   "source": [
    "eng_vocab = len(eng_token.word_index) + 1\n",
    "eng_vocab"
   ]
  },
  {
   "cell_type": "code",
   "execution_count": 21,
   "id": "2bfdf9ea",
   "metadata": {
    "execution": {
     "iopub.execute_input": "2023-10-27T19:32:39.333882Z",
     "iopub.status.busy": "2023-10-27T19:32:39.333580Z",
     "iopub.status.idle": "2023-10-27T19:32:43.147949Z",
     "shell.execute_reply": "2023-10-27T19:32:43.147145Z"
    },
    "papermill": {
     "duration": 3.835453,
     "end_time": "2023-10-27T19:32:43.150503",
     "exception": false,
     "start_time": "2023-10-27T19:32:39.315050",
     "status": "completed"
    },
    "tags": []
   },
   "outputs": [],
   "source": [
    "french_padded, french_token = target_vectorization(data['French'])"
   ]
  },
  {
   "cell_type": "code",
   "execution_count": 22,
   "id": "43c28a19",
   "metadata": {
    "execution": {
     "iopub.execute_input": "2023-10-27T19:32:43.186965Z",
     "iopub.status.busy": "2023-10-27T19:32:43.186347Z",
     "iopub.status.idle": "2023-10-27T19:32:43.191957Z",
     "shell.execute_reply": "2023-10-27T19:32:43.191125Z"
    },
    "id": "_KVhvJE17Rik",
    "outputId": "110c15a8-ee7f-4640-d722-816be41242b7",
    "papermill": {
     "duration": 0.025348,
     "end_time": "2023-10-27T19:32:43.193838",
     "exception": false,
     "start_time": "2023-10-27T19:32:43.168490",
     "status": "completed"
    },
    "tags": []
   },
   "outputs": [
    {
     "data": {
      "text/plain": [
       "(100000, 57)"
      ]
     },
     "execution_count": 22,
     "metadata": {},
     "output_type": "execute_result"
    }
   ],
   "source": [
    "french_padded.shape"
   ]
  },
  {
   "cell_type": "code",
   "execution_count": 23,
   "id": "2fad30e3",
   "metadata": {
    "execution": {
     "iopub.execute_input": "2023-10-27T19:32:43.229816Z",
     "iopub.status.busy": "2023-10-27T19:32:43.229195Z",
     "iopub.status.idle": "2023-10-27T19:32:43.234501Z",
     "shell.execute_reply": "2023-10-27T19:32:43.233631Z"
    },
    "id": "kn7IK3uj9gym",
    "outputId": "75110260-8096-48be-ba9a-337b408ff90f",
    "papermill": {
     "duration": 0.025246,
     "end_time": "2023-10-27T19:32:43.236455",
     "exception": false,
     "start_time": "2023-10-27T19:32:43.211209",
     "status": "completed"
    },
    "tags": []
   },
   "outputs": [
    {
     "data": {
      "text/plain": [
       "20757"
      ]
     },
     "execution_count": 23,
     "metadata": {},
     "output_type": "execute_result"
    }
   ],
   "source": [
    "french_vocab = len(french_token.word_index) + 1\n",
    "french_vocab"
   ]
  },
  {
   "cell_type": "code",
   "execution_count": 24,
   "id": "6cf1a6ca",
   "metadata": {
    "execution": {
     "iopub.execute_input": "2023-10-27T19:32:43.271033Z",
     "iopub.status.busy": "2023-10-27T19:32:43.270766Z",
     "iopub.status.idle": "2023-10-27T19:32:43.275742Z",
     "shell.execute_reply": "2023-10-27T19:32:43.274751Z"
    },
    "id": "I0WeH2Ei87B2",
    "papermill": {
     "duration": 0.024589,
     "end_time": "2023-10-27T19:32:43.277737",
     "exception": false,
     "start_time": "2023-10-27T19:32:43.253148",
     "status": "completed"
    },
    "tags": []
   },
   "outputs": [],
   "source": [
    "eng_seq_len = eng_padded.shape[1]\n",
    "french_seq_len = french_padded.shape[1]\n",
    "dec_inp_seq_len = french_seq_len - 1 \n",
    "embed_dim = 100\n",
    "eng_vocab = eng_vocab\n",
    "french_vocab = french_vocab\n",
    "batch_size = 100000\n",
    "num_heads = 5\n",
    "head_dim = embed_dim//num_heads\n",
    "hidden_dim = 64\n",
    "num_blocks = 2"
   ]
  },
  {
   "cell_type": "markdown",
   "id": "372e6fb1",
   "metadata": {
    "id": "ybqVU9kb-K0Z",
    "papermill": {
     "duration": 0.01667,
     "end_time": "2023-10-27T19:32:43.312293",
     "exception": false,
     "start_time": "2023-10-27T19:32:43.295623",
     "status": "completed"
    },
    "tags": []
   },
   "source": [
    "**Things to be Done Here...**\n",
    "\n",
    "1. Positional Embeddings\n",
    "2. Masking for Encoders\n",
    "3. Masking + Look ahead masking for decoders\n",
    "4. Encoder Block\n",
    "5. Encoder\n",
    "6. Decoder Block\n",
    "7. Decoder\n",
    "8. Transformer"
   ]
  },
  {
   "cell_type": "code",
   "execution_count": 25,
   "id": "15072a46",
   "metadata": {
    "execution": {
     "iopub.execute_input": "2023-10-27T19:32:43.348376Z",
     "iopub.status.busy": "2023-10-27T19:32:43.348043Z",
     "iopub.status.idle": "2023-10-27T19:32:43.355987Z",
     "shell.execute_reply": "2023-10-27T19:32:43.355153Z"
    },
    "id": "p3bM1xht-E-B",
    "papermill": {
     "duration": 0.028726,
     "end_time": "2023-10-27T19:32:43.358085",
     "exception": false,
     "start_time": "2023-10-27T19:32:43.329359",
     "status": "completed"
    },
    "tags": []
   },
   "outputs": [],
   "source": [
    "class positional_encoding(tf.keras.layers.Layer):\n",
    "    \n",
    "    def __init__(self, voc_size, sequence_length, embedding_dim, **kwargs):\n",
    "        super().__init__(**kwargs)\n",
    "\n",
    "        self.voc_size = voc_size\n",
    "        self.sequence_length = sequence_length\n",
    "        self.embedding_dim = embedding_dim\n",
    "\n",
    "        self.embedding_layer = tf.keras.layers.Embedding(input_dim=self.voc_size, output_dim=self.embedding_dim, input_length=self.sequence_length)\n",
    "        self.positional_encoding = tf.keras.layers.Embedding(self.sequence_length, self.embedding_dim)\n",
    "\n",
    "\n",
    "    def call(self, inputs):\n",
    "\n",
    "        pos_ids = tf.range(self.sequence_length)\n",
    "        token_embed = self.embedding_layer(inputs)\n",
    "        token_positional = self.positional_encoding(pos_ids)\n",
    "        final = token_embed + token_positional\n",
    "        return  final"
   ]
  },
  {
   "cell_type": "code",
   "execution_count": 26,
   "id": "3bdc69a8",
   "metadata": {
    "execution": {
     "iopub.execute_input": "2023-10-27T19:32:43.395314Z",
     "iopub.status.busy": "2023-10-27T19:32:43.395012Z",
     "iopub.status.idle": "2023-10-27T19:32:43.400824Z",
     "shell.execute_reply": "2023-10-27T19:32:43.399827Z"
    },
    "id": "oohtn46xACN2",
    "papermill": {
     "duration": 0.026948,
     "end_time": "2023-10-27T19:32:43.402902",
     "exception": false,
     "start_time": "2023-10-27T19:32:43.375954",
     "status": "completed"
    },
    "tags": []
   },
   "outputs": [],
   "source": [
    "class padding_mask(tf.keras.layers.Layer):\n",
    "    \n",
    "    def __init__(self, **kwargs):\n",
    "        super().__init__(**kwargs)\n",
    "\n",
    "    def call(self, inputs):\n",
    "\n",
    "        mask = tf.cast(tf.math.not_equal(inputs, 0), tf.float32)\n",
    "        mask = mask[:, tf.newaxis, :]\n",
    "\n",
    "        return mask"
   ]
  },
  {
   "cell_type": "code",
   "execution_count": 27,
   "id": "347b3702",
   "metadata": {
    "execution": {
     "iopub.execute_input": "2023-10-27T19:32:43.438845Z",
     "iopub.status.busy": "2023-10-27T19:32:43.438525Z",
     "iopub.status.idle": "2023-10-27T19:32:43.444254Z",
     "shell.execute_reply": "2023-10-27T19:32:43.443421Z"
    },
    "id": "3YlYDrmaD1it",
    "papermill": {
     "duration": 0.025448,
     "end_time": "2023-10-27T19:32:43.446057",
     "exception": false,
     "start_time": "2023-10-27T19:32:43.420609",
     "status": "completed"
    },
    "tags": []
   },
   "outputs": [],
   "source": [
    "class look_ahead_masking(tf.keras.layers.Layer):\n",
    "    \n",
    "    def __init__(self, **kwargs):\n",
    "        super().__init__(**kwargs)\n",
    "        self.masking = padding_mask()\n",
    "\n",
    "    def call(self, inputs, sequence_length):\n",
    "        masked = self.masking(inputs)\n",
    "        look = tf.linalg.band_part(tf.ones((1, sequence_length, sequence_length)), -1, 0)\n",
    "        dec_mask = tf.minimum(masked,look)\n",
    "\n",
    "        return dec_mask"
   ]
  },
  {
   "cell_type": "code",
   "execution_count": 28,
   "id": "26862bf7",
   "metadata": {
    "execution": {
     "iopub.execute_input": "2023-10-27T19:32:43.483272Z",
     "iopub.status.busy": "2023-10-27T19:32:43.482818Z",
     "iopub.status.idle": "2023-10-27T19:32:43.492879Z",
     "shell.execute_reply": "2023-10-27T19:32:43.492014Z"
    },
    "id": "sZHMjZ68GKY0",
    "papermill": {
     "duration": 0.031238,
     "end_time": "2023-10-27T19:32:43.494854",
     "exception": false,
     "start_time": "2023-10-27T19:32:43.463616",
     "status": "completed"
    },
    "tags": []
   },
   "outputs": [],
   "source": [
    "class encoder_layer(tf.keras.layers.Layer):\n",
    "\n",
    "    def __init__(self, num_heads, embedding_dim, hidden_dim, dropout_rate = 0.1, **kwargs):\n",
    "        super().__init__()\n",
    "\n",
    "        self.num_heads = num_heads\n",
    "        self.embedding_dim = embedding_dim\n",
    "\n",
    "        self.mha1 = tf.keras.layers.MultiHeadAttention(num_heads=self.num_heads, key_dim = self.embedding_dim, dropout = dropout_rate)\n",
    "\n",
    "        self.ffn = tf.keras.Sequential([tf.keras.layers.Dense(hidden_dim, activation = 'relu'), tf.keras.layers.Dense(embedding_dim, activation='relu')])\n",
    "\n",
    "        self.drop1 = tf.keras.layers.Dropout(dropout_rate)\n",
    "        self.drop2 = tf.keras.layers.Dropout(dropout_rate)\n",
    "\n",
    "        self.norm1 = tf.keras.layers.LayerNormalization()\n",
    "        self.norm2 = tf.keras.layers.LayerNormalization()\n",
    "\n",
    "        self.add = tf.keras.layers.Add()\n",
    "\n",
    "    def call(self, enc_inputs, enc_mask, training):\n",
    "\n",
    "        mha_out1 = self.mha1(enc_inputs, enc_inputs, enc_inputs, enc_mask)\n",
    "        drop_out1 = self.drop1(mha_out1, training = training)\n",
    "        norm_out1 = self.norm1(self.add([drop_out1,enc_inputs]))\n",
    "\n",
    "        ffn_out = self.ffn(norm_out1)\n",
    "        drop_out2 = self.drop2(ffn_out, training = training)\n",
    "        norm_out2 = self.norm2(self.add([drop_out2, norm_out1]))\n",
    "\n",
    "        return norm_out2"
   ]
  },
  {
   "cell_type": "code",
   "execution_count": 29,
   "id": "126146d0",
   "metadata": {
    "execution": {
     "iopub.execute_input": "2023-10-27T19:32:43.531285Z",
     "iopub.status.busy": "2023-10-27T19:32:43.530991Z",
     "iopub.status.idle": "2023-10-27T19:32:43.538603Z",
     "shell.execute_reply": "2023-10-27T19:32:43.537661Z"
    },
    "id": "wUL4w_YRYBaX",
    "papermill": {
     "duration": 0.028197,
     "end_time": "2023-10-27T19:32:43.540711",
     "exception": false,
     "start_time": "2023-10-27T19:32:43.512514",
     "status": "completed"
    },
    "tags": []
   },
   "outputs": [],
   "source": [
    "class Encoder(tf.keras.layers.Layer):\n",
    "    \n",
    "    def __init__(self, num_heads, num_blocks, voc_size, sequence_length, embedding_dim, hidden_dim, dropout_rate = 0.1, **kwargs):\n",
    "        super().__init__(**kwargs)\n",
    "\n",
    "        self.pos_embedded = positional_encoding(voc_size, sequence_length, embedding_dim)\n",
    "        self.pad = padding_mask()\n",
    "\n",
    "        self.add = tf.keras.layers.Add()\n",
    "        self.encoder = [encoder_layer(num_heads, embedding_dim, hidden_dim) for i in range(num_blocks)]\n",
    "\n",
    "\n",
    "    def call(self, enc_inputs, training):\n",
    "        emb = self.pos_embedded(enc_inputs)\n",
    "        skip = emb\n",
    "        mask = self.pad(enc_inputs)\n",
    "\n",
    "        for layer in self.encoder:\n",
    "            emb = layer(emb, mask, training)\n",
    "            emb = self.add([skip,emb])\n",
    "            skip = emb\n",
    "\n",
    "        return emb, mask"
   ]
  },
  {
   "cell_type": "code",
   "execution_count": 30,
   "id": "1dab4705",
   "metadata": {
    "execution": {
     "iopub.execute_input": "2023-10-27T19:32:43.579283Z",
     "iopub.status.busy": "2023-10-27T19:32:43.578966Z",
     "iopub.status.idle": "2023-10-27T19:32:43.590613Z",
     "shell.execute_reply": "2023-10-27T19:32:43.589903Z"
    },
    "id": "B12a5pJqoPQt",
    "papermill": {
     "duration": 0.032881,
     "end_time": "2023-10-27T19:32:43.592454",
     "exception": false,
     "start_time": "2023-10-27T19:32:43.559573",
     "status": "completed"
    },
    "tags": []
   },
   "outputs": [],
   "source": [
    "class decoder_layer(tf.keras.layers.Layer):\n",
    "\n",
    "    def __init__(self, num_heads, embedding_dim, hidden_dim, dropout_rate = 0.1, **kwargs):\n",
    "        super().__init__()\n",
    "\n",
    "        self.num_heads = num_heads\n",
    "        self.embedding_dim = embedding_dim\n",
    "\n",
    "        self.mha1 = tf.keras.layers.MultiHeadAttention(num_heads=self.num_heads, key_dim = self.embedding_dim, dropout = dropout_rate)\n",
    "        self.mha2 = tf.keras.layers.MultiHeadAttention(num_heads=self.num_heads, key_dim = self.embedding_dim, dropout = dropout_rate)\n",
    "\n",
    "        self.ffn = tf.keras.Sequential([tf.keras.layers.Dense(hidden_dim, activation = 'relu'), tf.keras.layers.Dense(embedding_dim, activation='relu')])\n",
    "\n",
    "        self.drop1 = tf.keras.layers.Dropout(dropout_rate)\n",
    "        self.drop2 = tf.keras.layers.Dropout(dropout_rate)\n",
    "        self.drop3 = tf.keras.layers.Dropout(dropout_rate)\n",
    "\n",
    "        self.norm1 = tf.keras.layers.LayerNormalization()\n",
    "        self.norm2 = tf.keras.layers.LayerNormalization()\n",
    "        self.norm3 = tf.keras.layers.LayerNormalization()\n",
    "\n",
    "        self.add = tf.keras.layers.Add()\n",
    "\n",
    "    def call(self, dec_inputs, enc_outputs, enc_mask, dec_mask, training):\n",
    "\n",
    "        mha_out1 = self.mha1(dec_inputs, dec_inputs, dec_inputs, dec_mask)\n",
    "        drop_out1 = self.drop1(mha_out1, training = training)\n",
    "        norm_out1 = self.norm1(self.add([drop_out1,dec_inputs]))\n",
    "\n",
    "        mha_out2 = self.mha2(norm_out1, enc_outputs, enc_outputs, enc_mask)\n",
    "        drop_out2 = self.drop2(mha_out1, training = training)\n",
    "        norm_out2 = self.norm2(self.add([drop_out2,norm_out1]))\n",
    "\n",
    "        ffn_out = self.ffn(norm_out2)\n",
    "        drop_out3 = self.drop3(ffn_out, training = training)\n",
    "        norm_out3 = self.norm3(self.add([drop_out3, norm_out2]))\n",
    "\n",
    "        return norm_out3"
   ]
  },
  {
   "cell_type": "code",
   "execution_count": 31,
   "id": "d0b2439c",
   "metadata": {
    "execution": {
     "iopub.execute_input": "2023-10-27T19:32:43.629362Z",
     "iopub.status.busy": "2023-10-27T19:32:43.629009Z",
     "iopub.status.idle": "2023-10-27T19:32:43.637469Z",
     "shell.execute_reply": "2023-10-27T19:32:43.636552Z"
    },
    "id": "pRU_qVKpQg4q",
    "papermill": {
     "duration": 0.029756,
     "end_time": "2023-10-27T19:32:43.639552",
     "exception": false,
     "start_time": "2023-10-27T19:32:43.609796",
     "status": "completed"
    },
    "tags": []
   },
   "outputs": [],
   "source": [
    "class Decoder(tf.keras.layers.Layer):\n",
    "\n",
    "    def __init__(self, num_heads, num_blocks, voc_size, sequence_length, embedding_dim, hidden_dim, dropout_rate = 0.1, **kwargs):\n",
    "        super().__init__(**kwargs)\n",
    "\n",
    "        self.sequence_length = sequence_length\n",
    "        self.pos_embedded = positional_encoding(voc_size, sequence_length, embedding_dim)\n",
    "        self.pad = padding_mask()\n",
    "        self.look_ahead = look_ahead_masking()\n",
    "        self.add = tf.keras.layers.Add()\n",
    "        self.decoder = [decoder_layer(num_heads, embedding_dim, hidden_dim) for i in range(num_blocks)]\n",
    "\n",
    "\n",
    "    def call(self, dec_inputs, enc_outputs, enc_mask, training):\n",
    "\n",
    "        res = self.pos_embedded(dec_inputs)\n",
    "        look_ahead = self.look_ahead(dec_inputs, self.sequence_length)\n",
    "        temp = res\n",
    "\n",
    "        for layer in self.decoder:\n",
    "            res = layer(res, enc_outputs, enc_mask, look_ahead, training)\n",
    "            res = self.add([temp,res])\n",
    "            temp = res\n",
    "\n",
    "        return res"
   ]
  },
  {
   "cell_type": "code",
   "execution_count": 32,
   "id": "24fff521",
   "metadata": {
    "execution": {
     "iopub.execute_input": "2023-10-27T19:32:43.676526Z",
     "iopub.status.busy": "2023-10-27T19:32:43.675964Z",
     "iopub.status.idle": "2023-10-27T19:32:43.683620Z",
     "shell.execute_reply": "2023-10-27T19:32:43.682767Z"
    },
    "id": "dJVIAWy-TY3L",
    "papermill": {
     "duration": 0.02835,
     "end_time": "2023-10-27T19:32:43.685605",
     "exception": false,
     "start_time": "2023-10-27T19:32:43.657255",
     "status": "completed"
    },
    "tags": []
   },
   "outputs": [],
   "source": [
    "class Transformer(tf.keras.Model):\n",
    "\n",
    "    def __init__(self, num_heads, num_blocks, eng_voc_size, french_voc_size, eng_sequence_length, dec_input_sequence_length, embedding_dim, hidden_dim, dropout_rate = 0.1, **kwargs):\n",
    "        super().__init__(**kwargs)\n",
    "\n",
    "        self.encoder = Encoder(num_heads, num_blocks, eng_voc_size, eng_sequence_length, embedding_dim, hidden_dim)\n",
    "        self.decoder = Decoder(num_heads, num_blocks, french_voc_size, dec_input_sequence_length, embedding_dim, hidden_dim)\n",
    "\n",
    "        self.Final_layer = tf.keras.layers.Dense(french_voc_size, activation='relu')\n",
    "        self.softmax = tf.keras.layers.Softmax(axis=-1)\n",
    "\n",
    "\n",
    "    def call(self, inputs):\n",
    "        enc_inp, dec_inp = inputs\n",
    "\n",
    "        enc_out, enc_mask = self.encoder(enc_inp)\n",
    "        dec_out = self.decoder(dec_inp, enc_out, enc_mask)\n",
    "\n",
    "        final_out = self.Final_layer(dec_out)\n",
    "        softmax_out = self.softmax(final_out)\n",
    "\n",
    "        return softmax_out\n"
   ]
  },
  {
   "cell_type": "code",
   "execution_count": 33,
   "id": "887fc05d",
   "metadata": {
    "execution": {
     "iopub.execute_input": "2023-10-27T19:32:43.722517Z",
     "iopub.status.busy": "2023-10-27T19:32:43.721951Z",
     "iopub.status.idle": "2023-10-27T19:32:47.931538Z",
     "shell.execute_reply": "2023-10-27T19:32:47.930502Z"
    },
    "id": "_p_6MCUgWLZ7",
    "papermill": {
     "duration": 4.230834,
     "end_time": "2023-10-27T19:32:47.934034",
     "exception": false,
     "start_time": "2023-10-27T19:32:43.703200",
     "status": "completed"
    },
    "tags": []
   },
   "outputs": [],
   "source": [
    "trans = Transformer(num_heads, num_blocks, eng_vocab, french_vocab, eng_seq_len, dec_inp_seq_len, embed_dim, hidden_dim)"
   ]
  },
  {
   "cell_type": "code",
   "execution_count": 34,
   "id": "419a6c52",
   "metadata": {
    "execution": {
     "iopub.execute_input": "2023-10-27T19:32:47.970771Z",
     "iopub.status.busy": "2023-10-27T19:32:47.970460Z",
     "iopub.status.idle": "2023-10-27T19:32:51.717845Z",
     "shell.execute_reply": "2023-10-27T19:32:51.716954Z"
    },
    "id": "-TWCdbmMWbbC",
    "papermill": {
     "duration": 3.768566,
     "end_time": "2023-10-27T19:32:51.720342",
     "exception": false,
     "start_time": "2023-10-27T19:32:47.951776",
     "status": "completed"
    },
    "tags": []
   },
   "outputs": [],
   "source": [
    "transformed = trans((eng_padded[:1], french_padded[:1,:-1]))"
   ]
  },
  {
   "cell_type": "code",
   "execution_count": 35,
   "id": "9a540a4a",
   "metadata": {
    "execution": {
     "iopub.execute_input": "2023-10-27T19:32:51.756382Z",
     "iopub.status.busy": "2023-10-27T19:32:51.756047Z",
     "iopub.status.idle": "2023-10-27T19:32:51.762029Z",
     "shell.execute_reply": "2023-10-27T19:32:51.761156Z"
    },
    "papermill": {
     "duration": 0.026035,
     "end_time": "2023-10-27T19:32:51.763895",
     "exception": false,
     "start_time": "2023-10-27T19:32:51.737860",
     "status": "completed"
    },
    "tags": []
   },
   "outputs": [
    {
     "data": {
      "text/plain": [
       "{'input_shape': ((1, 47), (1, 56))}"
      ]
     },
     "execution_count": 35,
     "metadata": {},
     "output_type": "execute_result"
    }
   ],
   "source": [
    "trans.get_build_config()"
   ]
  },
  {
   "cell_type": "code",
   "execution_count": 36,
   "id": "2813df22",
   "metadata": {
    "execution": {
     "iopub.execute_input": "2023-10-27T19:32:51.800687Z",
     "iopub.status.busy": "2023-10-27T19:32:51.800387Z",
     "iopub.status.idle": "2023-10-27T19:32:51.832393Z",
     "shell.execute_reply": "2023-10-27T19:32:51.831367Z"
    },
    "id": "5IfMqWznWpZi",
    "papermill": {
     "duration": 0.052552,
     "end_time": "2023-10-27T19:32:51.834427",
     "exception": false,
     "start_time": "2023-10-27T19:32:51.781875",
     "status": "completed"
    },
    "tags": []
   },
   "outputs": [
    {
     "name": "stdout",
     "output_type": "stream",
     "text": [
      "Model: \"transformer\"\n",
      "_________________________________________________________________\n",
      " Layer (type)                Output Shape              Param #   \n",
      "=================================================================\n",
      " encoder (Encoder)           multiple                  1597128   \n",
      "                                                                 \n",
      " decoder (Decoder)           multiple                  2914828   \n",
      "                                                                 \n",
      " dense_8 (Dense)             multiple                  2096457   \n",
      "                                                                 \n",
      " softmax (Softmax)           multiple                  0         \n",
      "                                                                 \n",
      "=================================================================\n",
      "Total params: 6,608,413\n",
      "Trainable params: 6,608,413\n",
      "Non-trainable params: 0\n",
      "_________________________________________________________________\n"
     ]
    }
   ],
   "source": [
    "trans.summary()"
   ]
  },
  {
   "cell_type": "code",
   "execution_count": 37,
   "id": "042dd4c2",
   "metadata": {
    "execution": {
     "iopub.execute_input": "2023-10-27T19:32:51.874365Z",
     "iopub.status.busy": "2023-10-27T19:32:51.874059Z",
     "iopub.status.idle": "2023-10-27T19:32:51.891760Z",
     "shell.execute_reply": "2023-10-27T19:32:51.891099Z"
    },
    "id": "MoJeTBqMXI0s",
    "papermill": {
     "duration": 0.039827,
     "end_time": "2023-10-27T19:32:51.893647",
     "exception": false,
     "start_time": "2023-10-27T19:32:51.853820",
     "status": "completed"
    },
    "tags": []
   },
   "outputs": [],
   "source": [
    "compilation = trans.compile(loss=tf.keras.losses.SparseCategoricalCrossentropy(),optimizer=tf.keras.optimizers.Adam(learning_rate=1e-3),metrics=[\"accuracy\"])"
   ]
  },
  {
   "cell_type": "code",
   "execution_count": 38,
   "id": "c83e4e6e",
   "metadata": {
    "execution": {
     "iopub.execute_input": "2023-10-27T19:32:51.931027Z",
     "iopub.status.busy": "2023-10-27T19:32:51.930740Z",
     "iopub.status.idle": "2023-10-27T19:32:51.934932Z",
     "shell.execute_reply": "2023-10-27T19:32:51.934075Z"
    },
    "id": "p_S3B2ULXMcI",
    "papermill": {
     "duration": 0.025256,
     "end_time": "2023-10-27T19:32:51.936858",
     "exception": false,
     "start_time": "2023-10-27T19:32:51.911602",
     "status": "completed"
    },
    "tags": []
   },
   "outputs": [],
   "source": [
    "calls = tf.keras.callbacks.EarlyStopping(patience = 5, verbose = True)"
   ]
  },
  {
   "cell_type": "code",
   "execution_count": 39,
   "id": "eca740c5",
   "metadata": {
    "execution": {
     "iopub.execute_input": "2023-10-27T19:32:51.976225Z",
     "iopub.status.busy": "2023-10-27T19:32:51.975385Z",
     "iopub.status.idle": "2023-10-27T19:32:52.051772Z",
     "shell.execute_reply": "2023-10-27T19:32:52.050750Z"
    },
    "papermill": {
     "duration": 0.098936,
     "end_time": "2023-10-27T19:32:52.054384",
     "exception": false,
     "start_time": "2023-10-27T19:32:51.955448",
     "status": "completed"
    },
    "tags": []
   },
   "outputs": [],
   "source": [
    "dataset = tf.data.Dataset.from_tensor_slices(((eng_padded,french_padded[:,:-1]), french_padded[:,1:]))"
   ]
  },
  {
   "cell_type": "code",
   "execution_count": 40,
   "id": "a6057889",
   "metadata": {
    "execution": {
     "iopub.execute_input": "2023-10-27T19:32:52.093595Z",
     "iopub.status.busy": "2023-10-27T19:32:52.092853Z",
     "iopub.status.idle": "2023-10-27T19:58:23.914684Z",
     "shell.execute_reply": "2023-10-27T19:58:23.913796Z"
    },
    "papermill": {
     "duration": 1531.843207,
     "end_time": "2023-10-27T19:58:23.916787",
     "exception": false,
     "start_time": "2023-10-27T19:32:52.073580",
     "status": "completed"
    },
    "tags": []
   },
   "outputs": [
    {
     "name": "stdout",
     "output_type": "stream",
     "text": [
      "Epoch 1/100\n",
      "160/160 [==============================] - 111s 628ms/step - loss: 2.1254 - accuracy: 0.8641 - val_loss: 0.7054 - val_accuracy: 0.8955\n",
      "Epoch 2/100\n",
      "160/160 [==============================] - 92s 574ms/step - loss: 0.6518 - accuracy: 0.8988 - val_loss: 0.6271 - val_accuracy: 0.9008\n",
      "Epoch 3/100\n",
      "160/160 [==============================] - 90s 566ms/step - loss: 0.5998 - accuracy: 0.9024 - val_loss: 0.6031 - val_accuracy: 0.9025\n",
      "Epoch 4/100\n",
      "160/160 [==============================] - 89s 557ms/step - loss: 0.5724 - accuracy: 0.9047 - val_loss: 0.5910 - val_accuracy: 0.9034\n",
      "Epoch 5/100\n",
      "160/160 [==============================] - 89s 557ms/step - loss: 0.5531 - accuracy: 0.9064 - val_loss: 0.5827 - val_accuracy: 0.9044\n",
      "Epoch 6/100\n",
      "160/160 [==============================] - 88s 552ms/step - loss: 0.5376 - accuracy: 0.9079 - val_loss: 0.5773 - val_accuracy: 0.9053\n",
      "Epoch 7/100\n",
      "160/160 [==============================] - 88s 553ms/step - loss: 0.5246 - accuracy: 0.9093 - val_loss: 0.5735 - val_accuracy: 0.9059\n",
      "Epoch 8/100\n",
      "160/160 [==============================] - 89s 554ms/step - loss: 0.5133 - accuracy: 0.9108 - val_loss: 0.5714 - val_accuracy: 0.9061\n",
      "Epoch 9/100\n",
      "160/160 [==============================] - 89s 556ms/step - loss: 0.5030 - accuracy: 0.9121 - val_loss: 0.5692 - val_accuracy: 0.9065\n",
      "Epoch 10/100\n",
      "160/160 [==============================] - 88s 553ms/step - loss: 0.4939 - accuracy: 0.9133 - val_loss: 0.5686 - val_accuracy: 0.9063\n",
      "Epoch 11/100\n",
      "160/160 [==============================] - 89s 554ms/step - loss: 0.4861 - accuracy: 0.9144 - val_loss: 0.5681 - val_accuracy: 0.9071\n",
      "Epoch 12/100\n",
      "160/160 [==============================] - 88s 551ms/step - loss: 0.4792 - accuracy: 0.9154 - val_loss: 0.5681 - val_accuracy: 0.9072\n",
      "Epoch 13/100\n",
      "160/160 [==============================] - 88s 552ms/step - loss: 0.4734 - accuracy: 0.9163 - val_loss: 0.5691 - val_accuracy: 0.9072\n",
      "Epoch 14/100\n",
      "160/160 [==============================] - 88s 553ms/step - loss: 0.4683 - accuracy: 0.9170 - val_loss: 0.5695 - val_accuracy: 0.9074\n",
      "Epoch 15/100\n",
      "160/160 [==============================] - 88s 553ms/step - loss: 0.4637 - accuracy: 0.9177 - val_loss: 0.5698 - val_accuracy: 0.9075\n",
      "Epoch 16/100\n",
      "160/160 [==============================] - 88s 551ms/step - loss: 0.4594 - accuracy: 0.9184 - val_loss: 0.5710 - val_accuracy: 0.9076\n",
      "Epoch 17/100\n",
      "160/160 [==============================] - 88s 552ms/step - loss: 0.4558 - accuracy: 0.9189 - val_loss: 0.5718 - val_accuracy: 0.9076\n",
      "Epoch 17: early stopping\n"
     ]
    }
   ],
   "source": [
    "fitting = trans.fit((eng_padded,french_padded[:,:-1]), french_padded[:, 1:], validation_split=0.20 ,epochs = 100, batch_size = 500, verbose = True, callbacks = calls)"
   ]
  },
  {
   "cell_type": "code",
   "execution_count": 41,
   "id": "92b8a966",
   "metadata": {
    "execution": {
     "iopub.execute_input": "2023-10-27T19:58:24.379742Z",
     "iopub.status.busy": "2023-10-27T19:58:24.379406Z",
     "iopub.status.idle": "2023-10-27T19:58:24.385675Z",
     "shell.execute_reply": "2023-10-27T19:58:24.384830Z"
    },
    "papermill": {
     "duration": 0.240098,
     "end_time": "2023-10-27T19:58:24.387697",
     "exception": false,
     "start_time": "2023-10-27T19:58:24.147599",
     "status": "completed"
    },
    "tags": []
   },
   "outputs": [
    {
     "data": {
      "text/plain": [
       "dict_keys(['loss', 'accuracy', 'val_loss', 'val_accuracy'])"
      ]
     },
     "execution_count": 41,
     "metadata": {},
     "output_type": "execute_result"
    }
   ],
   "source": [
    "fitting.history.keys()"
   ]
  },
  {
   "cell_type": "code",
   "execution_count": 42,
   "id": "57076cf0",
   "metadata": {
    "execution": {
     "iopub.execute_input": "2023-10-27T19:58:24.848439Z",
     "iopub.status.busy": "2023-10-27T19:58:24.847813Z",
     "iopub.status.idle": "2023-10-27T19:58:25.199260Z",
     "shell.execute_reply": "2023-10-27T19:58:25.198413Z"
    },
    "papermill": {
     "duration": 0.584261,
     "end_time": "2023-10-27T19:58:25.201410",
     "exception": false,
     "start_time": "2023-10-27T19:58:24.617149",
     "status": "completed"
    },
    "tags": []
   },
   "outputs": [
    {
     "data": {
      "image/png": "[encoded data removed]",
      "text/plain": [
       "<Figure size 640x480 with 1 Axes>"
      ]
     },
     "metadata": {},
     "output_type": "display_data"
    }
   ],
   "source": [
    "plt.plot(fitting.history['accuracy'])\n",
    "plt.plot(fitting.history['val_accuracy'])\n",
    "plt.title('Accuracy and Validation Accuracy')\n",
    "plt.legend(['Train', 'Test'])\n",
    "plt.xlabel('Epochs')\n",
    "plt.ylabel('Accuracy')\n",
    "plt.show()"
   ]
  },
  {
   "cell_type": "code",
   "execution_count": 43,
   "id": "b4385f84",
   "metadata": {
    "execution": {
     "iopub.execute_input": "2023-10-27T19:58:25.658775Z",
     "iopub.status.busy": "2023-10-27T19:58:25.657950Z",
     "iopub.status.idle": "2023-10-27T19:58:25.966755Z",
     "shell.execute_reply": "2023-10-27T19:58:25.965803Z"
    },
    "papermill": {
     "duration": 0.537965,
     "end_time": "2023-10-27T19:58:25.968782",
     "exception": false,
     "start_time": "2023-10-27T19:58:25.430817",
     "status": "completed"
    },
    "tags": []
   },
   "outputs": [
    {
     "data": {
      "image/png": "[encoded data removed]",
      "text/plain": [
       "<Figure size 640x480 with 1 Axes>"
      ]
     },
     "metadata": {},
     "output_type": "display_data"
    }
   ],
   "source": [
    "plt.plot(fitting.history['loss'])\n",
    "plt.plot(fitting.history['val_loss'])\n",
    "plt.title('Loss and Validation Loss')\n",
    "plt.legend(['Train', 'Test'])\n",
    "plt.xlabel('Epochs')\n",
    "plt.ylabel('Loss')\n",
    "plt.show()"
   ]
  },
  {
   "cell_type": "markdown",
   "id": "2592a0ee",
   "metadata": {
    "papermill": {
     "duration": 0.226363,
     "end_time": "2023-10-27T19:58:26.427765",
     "exception": false,
     "start_time": "2023-10-27T19:58:26.201402",
     "status": "completed"
    },
    "tags": []
   },
   "source": [
    "# Wrapping Up"
   ]
  }
 ],
 "metadata": {
  "kernelspec": {
   "display_name": "Python 3",
   "language": "python",
   "name": "python3"
  },
  "language_info": {
   "codemirror_mode": {
    "name": "ipython",
    "version": 3
   },
   "file_extension": ".py",
   "mimetype": "text/x-python",
   "name": "python",
   "nbconvert_exporter": "python",
   "pygments_lexer": "ipython3",
   "version": "3.10.12"
  },
  "papermill": {
   "default_parameters": {},
   "duration": 1605.578255,
   "end_time": "2023-10-27T19:58:30.200693",
   "environment_variables": {},
   "exception": null,
   "input_path": "__notebook__.ipynb",
   "output_path": "__notebook__.ipynb",
   "parameters": {},
   "start_time": "2023-10-27T19:31:44.622438",
   "version": "2.4.0"
  }
 },
 "nbformat": 4,
 "nbformat_minor": 5
}
